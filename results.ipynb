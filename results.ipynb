{
 "cells": [
  {
   "cell_type": "markdown",
   "metadata": {},
   "source": [
    "# Python For Data Analysis Group 2\n",
    "Github Repository: https://github.com/educated-fool/entity-resolution-group2"
   ]
  },
  {
   "cell_type": "markdown",
   "metadata": {},
   "source": [
    "## Module 1: RecordLinkage "
   ]
  },
  {
   "cell_type": "code",
   "execution_count": 1,
   "metadata": {},
   "outputs": [],
   "source": [
    "# Importing the necessary libraries\n",
    "import pandas as pd\n",
    "\n",
    "# Reading the left and right datasets from CSV files\n",
    "left_df = pd.read_csv('./data/left_dataset.csv')\n",
    "right_df = pd.read_csv('./data/right_dataset.csv')"
   ]
  },
  {
   "cell_type": "code",
   "execution_count": 2,
   "metadata": {},
   "outputs": [],
   "source": [
    "from src.module1_recordlinkage import record_linkage_pipeline"
   ]
  },
  {
   "cell_type": "code",
   "execution_count": 3,
   "metadata": {},
   "outputs": [
    {
     "data": {
      "text/html": [
       "<div>\n",
       "<style scoped>\n",
       "    .dataframe tbody tr th:only-of-type {\n",
       "        vertical-align: middle;\n",
       "    }\n",
       "\n",
       "    .dataframe tbody tr th {\n",
       "        vertical-align: top;\n",
       "    }\n",
       "\n",
       "    .dataframe thead th {\n",
       "        text-align: right;\n",
       "    }\n",
       "</style>\n",
       "<table border=\"1\" class=\"dataframe\">\n",
       "  <thead>\n",
       "    <tr style=\"text-align: right;\">\n",
       "      <th></th>\n",
       "      <th></th>\n",
       "      <th>left_dataset</th>\n",
       "      <th>right_dataset</th>\n",
       "      <th>confidence_score</th>\n",
       "    </tr>\n",
       "  </thead>\n",
       "  <tbody>\n",
       "    <tr>\n",
       "      <th>7</th>\n",
       "      <th>84020</th>\n",
       "      <td>8</td>\n",
       "      <td>84021</td>\n",
       "      <td>1.00</td>\n",
       "    </tr>\n",
       "    <tr>\n",
       "      <th>56</th>\n",
       "      <th>32736</th>\n",
       "      <td>57</td>\n",
       "      <td>32737</td>\n",
       "      <td>1.00</td>\n",
       "    </tr>\n",
       "    <tr>\n",
       "      <th rowspan=\"2\" valign=\"top\">59</th>\n",
       "      <th>39158</th>\n",
       "      <td>60</td>\n",
       "      <td>39159</td>\n",
       "      <td>0.92</td>\n",
       "    </tr>\n",
       "    <tr>\n",
       "      <th>39236</th>\n",
       "      <td>60</td>\n",
       "      <td>39237</td>\n",
       "      <td>0.92</td>\n",
       "    </tr>\n",
       "    <tr>\n",
       "      <th>66</th>\n",
       "      <th>77382</th>\n",
       "      <td>67</td>\n",
       "      <td>77383</td>\n",
       "      <td>1.00</td>\n",
       "    </tr>\n",
       "    <tr>\n",
       "      <th>...</th>\n",
       "      <th>...</th>\n",
       "      <td>...</td>\n",
       "      <td>...</td>\n",
       "      <td>...</td>\n",
       "    </tr>\n",
       "    <tr>\n",
       "      <th rowspan=\"2\" valign=\"top\">94474</th>\n",
       "      <th>165</th>\n",
       "      <td>94475</td>\n",
       "      <td>166</td>\n",
       "      <td>1.00</td>\n",
       "    </tr>\n",
       "    <tr>\n",
       "      <th>2372</th>\n",
       "      <td>94475</td>\n",
       "      <td>2373</td>\n",
       "      <td>1.00</td>\n",
       "    </tr>\n",
       "    <tr>\n",
       "      <th>94538</th>\n",
       "      <th>79362</th>\n",
       "      <td>94539</td>\n",
       "      <td>79363</td>\n",
       "      <td>1.00</td>\n",
       "    </tr>\n",
       "    <tr>\n",
       "      <th>94545</th>\n",
       "      <th>83309</th>\n",
       "      <td>94546</td>\n",
       "      <td>83310</td>\n",
       "      <td>0.92</td>\n",
       "    </tr>\n",
       "    <tr>\n",
       "      <th>94578</th>\n",
       "      <th>80356</th>\n",
       "      <td>94579</td>\n",
       "      <td>80357</td>\n",
       "      <td>1.00</td>\n",
       "    </tr>\n",
       "  </tbody>\n",
       "</table>\n",
       "<p>10036 rows × 3 columns</p>\n",
       "</div>"
      ],
      "text/plain": [
       "             left_dataset  right_dataset  confidence_score\n",
       "7     84020             8          84021              1.00\n",
       "56    32736            57          32737              1.00\n",
       "59    39158            60          39159              0.92\n",
       "      39236            60          39237              0.92\n",
       "66    77382            67          77383              1.00\n",
       "...                   ...            ...               ...\n",
       "94474 165           94475            166              1.00\n",
       "      2372          94475           2373              1.00\n",
       "94538 79362         94539          79363              1.00\n",
       "94545 83309         94546          83310              0.92\n",
       "94578 80356         94579          80357              1.00\n",
       "\n",
       "[10036 rows x 3 columns]"
      ]
     },
     "execution_count": 3,
     "metadata": {},
     "output_type": "execute_result"
    }
   ],
   "source": [
    "record_linkage_pipeline(left_df, right_df, filename='./data/recordlinkage_submission.csv', threshold=0.85)"
   ]
  }
 ],
 "metadata": {
  "kernelspec": {
   "display_name": "Python 3",
   "language": "python",
   "name": "python3"
  },
  "language_info": {
   "codemirror_mode": {
    "name": "ipython",
    "version": 3
   },
   "file_extension": ".py",
   "mimetype": "text/x-python",
   "name": "python",
   "nbconvert_exporter": "python",
   "pygments_lexer": "ipython3",
   "version": "3.12.1"
  }
 },
 "nbformat": 4,
 "nbformat_minor": 2
}
